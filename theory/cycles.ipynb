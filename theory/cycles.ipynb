{
 "cells": [
  {
   "cell_type": "markdown",
   "metadata": {},
   "source": [
    "# **Циклы**"
   ]
  },
  {
   "cell_type": "markdown",
   "metadata": {},
   "source": [
    "## **Цикл `while`**"
   ]
  },
  {
   "cell_type": "markdown",
   "metadata": {},
   "source": [
    "```python\n",
    "# Псевдокод\n",
    "while условие:\n",
    "    сделай что-то...\n",
    "```\n",
    "Цикл `while` выполняется пока *(while с англ. пока)* истинно условие, следующее за словом `while`.\n",
    "Важно, что действия, находящиеся внутри блока цикла `while` должны быть направлены на **изменение статуса условия** с истинного (`True`) на ложное (`False`), иначе программа **зациклится** и будет выполняться за время $O(\\infty)$, что означает бесконечно много времени.\n",
    "\n",
    "Пример кода суммы чисел от 1 до 10:"
   ]
  },
  {
   "cell_type": "code",
   "execution_count": 2,
   "metadata": {},
   "outputs": [
    {
     "name": "stdout",
     "output_type": "stream",
     "text": [
      "55\n"
     ]
    }
   ],
   "source": [
    "summa = 0\n",
    "num = 1\n",
    "while num <= 10:\n",
    "\tsumma += num\n",
    "\tnum += 1\n",
    "\n",
    "print(summa)"
   ]
  },
  {
   "cell_type": "markdown",
   "metadata": {},
   "source": [
    "## **Цикл `for`**"
   ]
  },
  {
   "cell_type": "markdown",
   "metadata": {},
   "source": [
    "```python\n",
    "# Псевдокод\n",
    "for имя_локальной_переменной in итерируемый_объект:\n",
    "    Сделай то-то\n",
    "```\n",
    "Цикл `for` выполняется итеративно: после оператора `in` следует **итерируемый** объект, цикл `for` на каждой итерации вызывает функцию `next()`, передавая в качестве параметра этот объект, до тех пор, пока не будет вызвана ошибка `StopIteration`, сигнализирующая об окончании элементов в исходном объекте, также цикл `for` передает в переменную, инициализированную после оператора `for`, значение, возвращаемое функцией `next()`. \n",
    "\n",
    "Важно, что после оператора `in` может следовать не только объект `range`, но и **любой другой итерируемый** объект: `list`, `tuple`, `set`, `iter` и др., реализующие интерфейс `iterable`\n",
    "\n",
    "Пример код той же задачи, используя цикл `for`:"
   ]
  },
  {
   "cell_type": "code",
   "execution_count": 1,
   "metadata": {},
   "outputs": [
    {
     "name": "stdout",
     "output_type": "stream",
     "text": [
      "55\n"
     ]
    }
   ],
   "source": [
    "summa = 0\n",
    "for num in range(1, 11):\n",
    "    summa += num\n",
    "\n",
    "print(summa)"
   ]
  },
  {
   "cell_type": "markdown",
   "metadata": {},
   "source": [
    "## **Оператор ветвления (условный оператор) `if` / `elif` / `else`**"
   ]
  },
  {
   "cell_type": "markdown",
   "metadata": {},
   "source": [
    "```python\n",
    "# Псевдокод\n",
    "if условие1:\n",
    "    Действия, которые будут выполнены\n",
    "    в случае, если условие1 истинно\n",
    "elif условие2:\n",
    "    Действия, которые будут выполнены\n",
    "    в случае, если условие2 истинно\n",
    "...\n",
    "else:\n",
    "    Действия, которые будут выполнены\n",
    "    в случае, если ни одно из условий выше\n",
    "    не выполняется\n",
    "```\n",
    "\n",
    "Оператор ветвления `if` помогает разделить программу на несколько частей"
   ]
  }
 ],
 "metadata": {
  "kernelspec": {
   "display_name": ".venv",
   "language": "python",
   "name": "python3"
  },
  "language_info": {
   "codemirror_mode": {
    "name": "ipython",
    "version": 3
   },
   "file_extension": ".py",
   "mimetype": "text/x-python",
   "name": "python",
   "nbconvert_exporter": "python",
   "pygments_lexer": "ipython3",
   "version": "3.13.1"
  }
 },
 "nbformat": 4,
 "nbformat_minor": 2
}
