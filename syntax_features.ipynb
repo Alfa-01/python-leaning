{
 "cells": [
  {
   "cell_type": "markdown",
   "metadata": {},
   "source": [
    "# **Синтаксические конструкции**"
   ]
  },
  {
   "cell_type": "markdown",
   "metadata": {},
   "source": [
    "## **Контекстный редактор**"
   ]
  },
  {
   "cell_type": "markdown",
   "metadata": {},
   "source": [
    "```python\n",
    "# Псевдокод\n",
    "\n",
    "with переменная as новое_локальное_название_переменной:\n",
    "    сделай что-то...\n",
    "```"
   ]
  },
  {
   "cell_type": "markdown",
   "metadata": {},
   "source": [
    "Контекстный редактор позволяет выгружать из памяти `переменную` после завершения работы с ней.\n",
    "\n",
    "Будем использовать для работы с файлами."
   ]
  },
  {
   "cell_type": "code",
   "execution_count": null,
   "metadata": {},
   "outputs": [],
   "source": [
    "with open(\"input.txt\") as file:\n",
    "    string = file.read()\n",
    "\n",
    "string"
   ]
  },
  {
   "cell_type": "markdown",
   "metadata": {},
   "source": [
    "## **Именные функции**"
   ]
  },
  {
   "cell_type": "markdown",
   "metadata": {},
   "source": [
    "```python\n",
    "# Псевдокод\n",
    "\n",
    "def имя_функции(имя_аргумента_1, имя_аргумента_2, ...):\n",
    "    делаем что-то с аргументами и возвращаем (или нет) что-то\n",
    "```"
   ]
  },
  {
   "cell_type": "markdown",
   "metadata": {},
   "source": [
    "**Именные** функции, или **стандартные** функции, позволяют выполнять отдельный блок кода, когда **внешняя** программа вызывает её, передавая, если необходимо аргументы. На выходе функция может как возвращать некоторое значение (оператор `return`), так и нет. Функции, не возвращающие ничего называются **процедурами**."
   ]
  },
  {
   "cell_type": "code",
   "execution_count": null,
   "metadata": {},
   "outputs": [],
   "source": [
    "def square(x):\n",
    "    return x ** 2\n",
    "\n",
    "square(4)"
   ]
  },
  {
   "cell_type": "markdown",
   "metadata": {},
   "source": [
    "## **Безымянные функции**"
   ]
  },
  {
   "cell_type": "markdown",
   "metadata": {},
   "source": [
    "```python\n",
    "# Псевдокод\n",
    "\n",
    "lambda имя_аргумента: операция над аргументом\n",
    "```"
   ]
  },
  {
   "cell_type": "markdown",
   "metadata": {},
   "source": [
    "**Безымянные** функции, или анонимные функции, по сути, те же именные, однако они не задаются отельным блоком кода и могу быть переданы как аргументы для некоторых функций. Использовать мы их будем, в основном, для сортировки или фильтрации."
   ]
  },
  {
   "cell_type": "code",
   "execution_count": null,
   "metadata": {},
   "outputs": [],
   "source": [
    "seq = list(range(20))\n",
    "sorted(seq, key=lambda x: x % 3)"
   ]
  },
  {
   "cell_type": "markdown",
   "metadata": {},
   "source": [
    "## **Генераторы**"
   ]
  },
  {
   "cell_type": "markdown",
   "metadata": {},
   "source": [
    "```python\n",
    "# Псевдокод\n",
    "\n",
    "имя_переменной for имя_переменной in последовательность\n",
    "```"
   ]
  },
  {
   "cell_type": "markdown",
   "metadata": {},
   "source": [
    "```python\n",
    "имя_переменной for имя_переменной in последовательность if условие\n",
    "```"
   ]
  },
  {
   "cell_type": "markdown",
   "metadata": {},
   "source": [
    "```python\n",
    "имя_переменной if условие else значение_если_условие_ложно for имя_переменной in последовательность\n",
    "```"
   ]
  },
  {
   "cell_type": "markdown",
   "metadata": {},
   "source": [
    "Генераторы позволяют создавать новые последовательности на основе существующий, во многом они напоминают сочетание `map` и `filter`.\n",
    "\n",
    "Как видно из псевдокода выше, генераторы имеют три варианта:\n",
    "- Первый, самый простой: в новую последовательность попадут все элементы из существующей\n",
    "- Второй: в новую последовательность попадут **не** все элементы из существующей, а только те, для которых `условие` **истинно** (`True`)\n",
    "- Третий: расширяет второй, в случае, если для элемента условие **ложно** (`False`), то для него будет установлено значение `значение_если_условие_ложно`"
   ]
  },
  {
   "cell_type": "code",
   "execution_count": 21,
   "metadata": {},
   "outputs": [],
   "source": [
    "seq = list(range(20))"
   ]
  },
  {
   "cell_type": "code",
   "execution_count": null,
   "metadata": {},
   "outputs": [],
   "source": [
    "new_seq = [x**2 for x in seq]\n",
    "new_seq"
   ]
  },
  {
   "cell_type": "code",
   "execution_count": null,
   "metadata": {},
   "outputs": [],
   "source": [
    "new_seq = [x**2 for x in seq if x % 2 == 0]\n",
    "new_seq"
   ]
  },
  {
   "cell_type": "code",
   "execution_count": null,
   "metadata": {},
   "outputs": [],
   "source": [
    "new_seq = [x**2 if x % 2 == 0 else 52 for x in seq]\n",
    "new_seq"
   ]
  },
  {
   "cell_type": "markdown",
   "metadata": {},
   "source": [
    "## **Срезы**"
   ]
  },
  {
   "cell_type": "markdown",
   "metadata": {},
   "source": [
    "```python\n",
    "# Псевдокод\n",
    "имя_переменной[старт : стоп : шаг]\n",
    "```"
   ]
  },
  {
   "cell_type": "markdown",
   "metadata": {},
   "source": [
    "**Важно**, что срезы можно применить только к объектам, **поддерживающим индексацию**, т.е. `str`, `list`, `tuple`.\n",
    "\n",
    "Функционал срезов очень похож на работу функции `range`. Срез создаёт копию объекта, начиная с индекса `старт`, заканчивая индексом `стоп` и с шагом `шаг`.\n",
    "\n",
    "Кроме того, если не указан:\n",
    "- `старт`, то по умолчанию срез начинается с **0-го** индекса\n",
    "- `стоп`, то по умолчанию срез заканчивается **последним** индексом\n",
    "- `шаг`, то он по умолчанию равен **1**"
   ]
  },
  {
   "cell_type": "code",
   "execution_count": 25,
   "metadata": {},
   "outputs": [],
   "source": [
    "string = \"Hello World!\""
   ]
  },
  {
   "cell_type": "code",
   "execution_count": null,
   "metadata": {},
   "outputs": [],
   "source": [
    "string[1: 7: 3]"
   ]
  },
  {
   "cell_type": "code",
   "execution_count": null,
   "metadata": {},
   "outputs": [],
   "source": [
    "string[: 7: 3]"
   ]
  },
  {
   "cell_type": "code",
   "execution_count": null,
   "metadata": {},
   "outputs": [],
   "source": [
    "string[::3]"
   ]
  },
  {
   "cell_type": "code",
   "execution_count": null,
   "metadata": {},
   "outputs": [],
   "source": [
    "string[::]"
   ]
  },
  {
   "cell_type": "markdown",
   "metadata": {},
   "source": [
    "В `python` также присутствует **обратная** индексация, т.е. отрицательные индексы.\n",
    "\n",
    "- -1 соответствует последнему элементу последовательности\n",
    "- -2 соответствует предпоследнему элементу последовательности\n",
    "- и т.д."
   ]
  },
  {
   "cell_type": "code",
   "execution_count": null,
   "metadata": {},
   "outputs": [],
   "source": [
    "string[-1]"
   ]
  },
  {
   "cell_type": "code",
   "execution_count": null,
   "metadata": {},
   "outputs": [],
   "source": [
    "string[-5:-2:2]"
   ]
  },
  {
   "cell_type": "code",
   "execution_count": null,
   "metadata": {},
   "outputs": [],
   "source": [
    "string[::-1]"
   ]
  }
 ],
 "metadata": {
  "kernelspec": {
   "display_name": ".venv",
   "language": "python",
   "name": "python3"
  },
  "language_info": {
   "codemirror_mode": {
    "name": "ipython",
    "version": 3
   },
   "file_extension": ".py",
   "mimetype": "text/x-python",
   "name": "python",
   "nbconvert_exporter": "python",
   "pygments_lexer": "ipython3",
   "version": "3.13.1"
  }
 },
 "nbformat": 4,
 "nbformat_minor": 2
}
